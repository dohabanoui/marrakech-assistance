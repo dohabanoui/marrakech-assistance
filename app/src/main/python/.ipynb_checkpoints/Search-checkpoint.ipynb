{
 "cells": [
  {
   "cell_type": "code",
   "execution_count": 1,
   "id": "61ef06cd",
   "metadata": {},
   "outputs": [],
   "source": [
    "# Import The necessary Libraries\n",
    "# numpy for mathematical Operation\n",
    "# rank_bm25 for indexing the corpus \"Database\"\n",
    "# Os is used in order to read the csv data from the local files\n",
    "\n",
    "import numpy as np\n",
    "import pandas as pd\n",
    "from rank_bm25 import BM25Okapi\n",
    "from os.path import dirname , join"
   ]
  },
  {
   "cell_type": "code",
   "execution_count": 53,
   "id": "e986a62e",
   "metadata": {},
   "outputs": [],
   "source": [
    "def process(sample):\n",
    "    # lower  and tokenize a given String\n",
    "    return sample.lower()\n",
    "\n",
    "\n",
    "def search_hotels(query):\n",
    "    # Initialize an empty list to store the results data\n",
    "    res= []\n",
    "\n",
    "    # Process The query\n",
    "    # query= query.replace(\"stars\",\"\")\n",
    "    query= query.lower()\n",
    "    tokenized_query= query.split(\" \")\n",
    "\n",
    "    # Read the csv file from the local\n",
    "    # filename=join(dirname(__file__),'HotelsFinal.csv')\n",
    "    filename = 'HotelsFinal.csv'\n",
    "    df=pd.read_csv(filename,index_col=0)\n",
    "    df=df.fillna(\" \")\n",
    "\n",
    "    # In this part we're getting the info colum\n",
    "    # it represent the features that will be embedded in order to index the database\n",
    "\n",
    "    corpus = df[\"info\"].apply(process).to_list()\n",
    "    tokenized_corpus = [doc.split(\" \") for doc in corpus]\n",
    "    index=[corpus.index(i) for i in corpus]\n",
    "    bm25= BM25Okapi(tokenized_corpus)\n",
    "\n",
    "    doc_scores = bm25.get_scores(tokenized_query)\n",
    "    l = bm25.get_top_n(tokenized_query,index, n=300)\n",
    "\n",
    "    for i in l:\n",
    "        # get The Row by index and cast it to a dict\n",
    "        res.append(df.iloc[i].to_dict())\n",
    "    return res"
   ]
  },
  {
   "cell_type": "code",
   "execution_count": null,
   "id": "58b806f8",
   "metadata": {},
   "outputs": [],
   "source": []
  },
  {
   "cell_type": "code",
   "execution_count": 54,
   "id": "1cb1291f",
   "metadata": {},
   "outputs": [],
   "source": [
    "def search_restaurants(query):\n",
    "    res=[]\n",
    "\n",
    "    query= query.lower()\n",
    "    tokenized_query= query.split(\" \")\n",
    "\n",
    "    # filename=join(dirname(__file__),'RestaurantsFinal.csv')\n",
    "    filename = 'RestaurantsFinal.csv'\n",
    "    df=pd.read_csv(filename,index_col=0)\n",
    "    df=df.fillna(\" \")\n",
    "\n",
    "    corpus = df[\"info\"].apply(process).to_list()\n",
    "    tokenized_corpus = [doc.split(\" \") for doc in corpus]\n",
    "    index=[corpus.index(i) for i in corpus]\n",
    "    bm25 =BM25Okapi(tokenized_corpus)\n",
    "\n",
    "    doc_scores = bm25.get_scores(tokenized_query)\n",
    "    l=bm25.get_top_n(tokenized_query,index, n=300)\n",
    "\n",
    "    for i in l:\n",
    "           res.append(df.iloc[i].to_dict())\n",
    "    return res"
   ]
  },
  {
   "cell_type": "code",
   "execution_count": 55,
   "id": "ecde3ce2",
   "metadata": {},
   "outputs": [],
   "source": [
    "def search_attractions(query):\n",
    "    res=[]\n",
    "\n",
    "    query= query.lower()\n",
    "    tokenized_query= query.split(\" \")\n",
    "\n",
    "    # filename=join(dirname(__file__),'RestaurantsFinal.csv')\n",
    "    filename = 'AttractionsFinal.csv'\n",
    "    df=pd.read_csv(filename,index_col=0)\n",
    "    df=df.fillna(\" \")\n",
    "\n",
    "    corpus = df[\"info\"].apply(process).to_list()\n",
    "    tokenized_corpus = [doc.split(\" \") for doc in corpus]\n",
    "    index=[corpus.index(i) for i in corpus]\n",
    "    bm25 =BM25Okapi(tokenized_corpus)\n",
    "\n",
    "    doc_scores = bm25.get_scores(tokenized_query)\n",
    "    l=bm25.get_top_n(tokenized_query,index, n=300)\n",
    "\n",
    "    for i in l:\n",
    "           res.append(df.iloc[i].to_dict())\n",
    "    return res\n"
   ]
  }
 ],
 "metadata": {
  "kernelspec": {
   "display_name": "Python 3 (ipykernel)",
   "language": "python",
   "name": "python3"
  },
  "language_info": {
   "codemirror_mode": {
    "name": "ipython",
    "version": 3
   },
   "file_extension": ".py",
   "mimetype": "text/x-python",
   "name": "python",
   "nbconvert_exporter": "python",
   "pygments_lexer": "ipython3",
   "version": "3.8.0"
  }
 },
 "nbformat": 4,
 "nbformat_minor": 5
}
